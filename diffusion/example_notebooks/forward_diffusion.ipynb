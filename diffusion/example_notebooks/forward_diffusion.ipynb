{
 "cells": [
  {
   "cell_type": "code",
   "execution_count": 9,
   "metadata": {},
   "outputs": [],
   "source": [
    "import torch\n",
    "from PIL import Image"
   ]
  },
  {
   "cell_type": "code",
   "execution_count": 10,
   "metadata": {},
   "outputs": [],
   "source": [
    "img = Image.open(\"../images/cat-128x128.jpg\")"
   ]
  },
  {
   "attachments": {},
   "cell_type": "markdown",
   "metadata": {},
   "source": [
    "## Forward Diffusion Process ($x_t$ -> $x_{t+1}$): \n",
    "\n",
    "$q(x_{t+1}|x_t) = N(x_{t+1}; \\sqrt{1-\\beta_t}x_t, \\beta_tI)$\n",
    "\n",
    "$x_{t+1} = \\sqrt{1-\\beta_t}x_t + \\sqrt{\\beta_t}\\epsilon$"
   ]
  },
  {
   "cell_type": "code",
   "execution_count": 3,
   "metadata": {},
   "outputs": [
    {
     "data": {
      "text/plain": [
       "torch.Size([3, 128, 128])"
      ]
     },
     "execution_count": 3,
     "metadata": {},
     "output_type": "execute_result"
    }
   ],
   "source": [
    "C, H, W = 3, 128, 128\n",
    "beta = 0.005\n",
    "xt = img\n",
    "normal_dist = torch.randn(size=(C, H, W))\n",
    "\n",
    "xt_1 = torch.sqrt(1-beta) * xt + torch.sqrt(beta) * normal_dist\n"
   ]
  },
  {
   "attachments": {},
   "cell_type": "markdown",
   "metadata": {},
   "source": [
    "## Forward Diffusion Process ($x_0$ -> $x_t$): \n",
    "\n",
    "$\\alpha_t=1-\\beta_t$\n",
    "\n",
    "$\\hat{\\alpha_t}=\\prod_{s=1}^{t}$\n",
    "\n",
    "$x_t=\\sqrt{\\hat{a_t}}x_0+\\sqrt{1-\\hat{a_t}}\\epsilon$"
   ]
  },
  {
   "cell_type": "code",
   "execution_count": null,
   "metadata": {},
   "outputs": [],
   "source": []
  }
 ],
 "metadata": {
  "kernelspec": {
   "display_name": "base",
   "language": "python",
   "name": "python3"
  },
  "language_info": {
   "codemirror_mode": {
    "name": "ipython",
    "version": 3
   },
   "file_extension": ".py",
   "mimetype": "text/x-python",
   "name": "python",
   "nbconvert_exporter": "python",
   "pygments_lexer": "ipython3",
   "version": "3.9.7"
  },
  "orig_nbformat": 4,
  "vscode": {
   "interpreter": {
    "hash": "ad2bdc8ecc057115af97d19610ffacc2b4e99fae6737bb82f5d7fb13d2f2c186"
   }
  }
 },
 "nbformat": 4,
 "nbformat_minor": 2
}
